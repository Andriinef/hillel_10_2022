{
 "cells": [
  {
   "cell_type": "markdown",
   "metadata": {},
   "source": [
    "# Домашнее задание №1"
   ]
  },
  {
   "cell_type": "markdown",
   "metadata": {},
   "source": [
    "## Задание №1. Попытаться установить Jupyter Notebook с использованием пакетного менеджера pip"
   ]
  },
  {
   "cell_type": "markdown",
   "metadata": {},
   "source": [
    "На моём пк уже довольно давно установленна последняя версия Jupyter Notebook с использованием пакетного менеджера pip"
   ]
  },
  {
   "cell_type": "raw",
   "metadata": {},
   "source": [
    "pip install jupyter"
   ]
  },
  {
   "cell_type": "markdown",
   "metadata": {},
   "source": [
    "В моем случае Jupyter Notebook прихел на замену стандартного текстового редактора.\n",
    "С помощью Jupyter Notebook я делаю для себя конспекты, заметки и примеры кода."
   ]
  },
  {
   "cell_type": "markdown",
   "metadata": {},
   "source": [
    "## Задание №2. Настройте рабочее окружение таким образом, чтобы было удобно работать"
   ]
  },
  {
   "cell_type": "markdown",
   "metadata": {},
   "source": [
    "У меня установленна оперативная система Linux Ubuntu 20.04.\n",
    "Среды разработки (IDE): PyCharm, Visual Studio. Предпочитаю работать в Visual Studio, в ней очень много дополнений и интуитивно понятна.\n",
    "Языки программирования: Python 3.8 и Pynhon 3.10"
   ]
  },
  {
   "cell_type": "markdown",
   "metadata": {},
   "source": [
    "## Задание №3. Перечитать все закрепленные за лекцией материалы"
   ]
  },
  {
   "cell_type": "markdown",
   "metadata": {},
   "source": [
    "## Тема 1. Windows Subsystem for Linux"
   ]
  },
  {
   "cell_type": "markdown",
   "metadata": {},
   "source": [
    "Windows Subsystem for Linux, в моём понимании, это костыль для работы на Linux под Windows, все равно, что ездить на мерсе с наклейками от лимузина. Легче установить Linux паралельно Windows и работать на полноценной системе."
   ]
  },
  {
   "cell_type": "markdown",
   "metadata": {},
   "source": [
    "## Тема 2. MRO"
   ]
  },
  {
   "cell_type": "markdown",
   "metadata": {},
   "source": [
    "MRO - method resolution order \"порядок разрешения методов\" (Смертельный алмаз смерти). Это порядок, в котором метод ищется в иерархии классов, выполняется снизу вверх и слева направо.\n",
    "Это означает, что сначала метод ищется в классе объекта. Если он не найден, он ищется в непосредственном суперклассе. В случае нескольких суперклассов поиск осуществляется слева направо в том порядке, в котором он был объявлен разработчиком."
   ]
  },
  {
   "cell_type": "markdown",
   "metadata": {},
   "source": [
    "Пример 1"
   ]
  },
  {
   "cell_type": "code",
   "execution_count": 4,
   "metadata": {},
   "outputs": [],
   "source": [
    "class A:\n",
    "    pass\n",
    "\n",
    "class B:\n",
    "    pass\n",
    "\n",
    "class C(B, A):\n",
    "    pass\n"
   ]
  },
  {
   "cell_type": "markdown",
   "metadata": {},
   "source": [
    "В этом случае MRO будет C -> B -> A."
   ]
  },
  {
   "cell_type": "markdown",
   "metadata": {},
   "source": [
    "Пример 2"
   ]
  },
  {
   "cell_type": "code",
   "execution_count": 6,
   "metadata": {},
   "outputs": [
    {
     "name": "stdout",
     "output_type": "stream",
     "text": [
      "B.method() called\n"
     ]
    }
   ],
   "source": [
    "class A:\n",
    "  def method(self):\n",
    "    print(\"A.method() called\")\n",
    "\n",
    "class B(A):\n",
    "  def method(self):\n",
    "    print(\"B.method() called\")\n",
    "\n",
    "b = B()\n",
    "b.method()\n"
   ]
  },
  {
   "cell_type": "markdown",
   "metadata": {},
   "source": [
    "MRO для этого случая: B -> A"
   ]
  },
  {
   "cell_type": "markdown",
   "metadata": {},
   "source": [
    "Пример 3"
   ]
  },
  {
   "cell_type": "code",
   "execution_count": 21,
   "metadata": {},
   "outputs": [
    {
     "name": "stdout",
     "output_type": "stream",
     "text": [
      "A.method() called\n"
     ]
    }
   ],
   "source": [
    "class A:\n",
    "  def method(self):\n",
    "    print(\"A.method() called\")\n",
    "\n",
    "class B:\n",
    "  pass\n",
    "\n",
    "class C(B, A):\n",
    "  pass\n",
    "\n",
    "c = C()\n",
    "c.method()\n"
   ]
  },
  {
   "cell_type": "markdown",
   "metadata": {},
   "source": [
    "MRO для этого случая: C -> B -> A"
   ]
  },
  {
   "cell_type": "markdown",
   "metadata": {},
   "source": [
    "Пример 4"
   ]
  },
  {
   "cell_type": "code",
   "execution_count": 22,
   "metadata": {},
   "outputs": [
    {
     "name": "stdout",
     "output_type": "stream",
     "text": [
      "A.method() called\n"
     ]
    }
   ],
   "source": [
    "class A:\n",
    "  def method(self):\n",
    "    print(\"A.method() called\")\n",
    "\n",
    "class B:\n",
    "  def method(self):\n",
    "    print(\"B.method() called\")\n",
    "\n",
    "class C(A, B):\n",
    "  pass\n",
    "\n",
    "class D(C, B):\n",
    "  pass\n",
    "\n",
    "d = D()\n",
    "d.method()\n"
   ]
  },
  {
   "cell_type": "markdown",
   "metadata": {},
   "source": [
    "MRO для этого случая: D -> C -> A -> B"
   ]
  },
  {
   "cell_type": "markdown",
   "metadata": {},
   "source": [
    "Пример 5"
   ]
  },
  {
   "cell_type": "markdown",
   "metadata": {},
   "source": [
    "https://levelup.gitconnected.com/method-resolution-order-in-python-5afbaecc25e0"
   ]
  },
  {
   "cell_type": "code",
   "execution_count": 23,
   "metadata": {},
   "outputs": [
    {
     "name": "stdout",
     "output_type": "stream",
     "text": [
      "O.method() called\n"
     ]
    }
   ],
   "source": [
    "class O:\n",
    "    def method(self):\n",
    "        print(\"O.method() called\")\n",
    "\n",
    "class F(O):\n",
    "    pass\n",
    "\n",
    "class E(O): \n",
    "    pass\n",
    "\n",
    "class D(O): \n",
    "    pass\n",
    "\n",
    "class C(D,F): \n",
    "    pass\n",
    "\n",
    "class B(D,E): \n",
    "    pass\n",
    "\n",
    "class A(B,C): \n",
    "    pass\n",
    "\n",
    "def myFunc(b):\n",
    "    for x in range(b):\n",
    "        n = x+1\n",
    "        print(n, end=\" \")\n",
    " \n",
    "myFunc(6)\n",
    "\n",
    "a = A()\n",
    "a.method()\n"
   ]
  },
  {
   "attachments": {
    "image.png": {
     "image/png": "[encoded data removed]"
    }
   },
   "cell_type": "markdown",
   "metadata": {},
   "source": [
    " ![image.png](attachment:image.png)"
   ]
  },
  {
   "cell_type": "markdown",
   "metadata": {},
   "source": [
    "Алгоритм линеаризации C3 – позволяет разрешить возможные конфликтные ситуации при множественном наследовании (конфликт методов, проблема ромба). Основных правила линеаризации:\n",
    "\n",
    "- Дети должны предшествовать своим родителям.\n",
    "- Если конкретный класс наследуется от одного или нескольких классов, они сохраняются в порядке, указанном в кортеже базового класса.\n"
   ]
  },
  {
   "cell_type": "raw",
   "metadata": {},
   "source": [
    "L[B] = B + merge(L[D], L[E], DE)\t\n",
    "     = B + merge(DO, EO, DE)\t # D не появляется в хвосте любого другого списка\n",
    "     = B + D + merge(O, EO, E)\t # O в хвосте EO - переходите к следующему\n",
    "     = B + D + E + merge(O, O)\t # линеаризация класса объектов тривиальна\n",
    "     = B + D + E + O \t\n",
    "     = B D E O\t"
   ]
  },
  {
   "cell_type": "raw",
   "metadata": {},
   "source": [
    "L[C] = C + merge(L[D], L[F], DF)\n",
    "     = C + merge(DO, FO, DF)\n",
    "     = C + D + merge(O, FO, F)\n",
    "     = C + D + F + merge(O, O)\n",
    "     = C + D + F + O \n",
    "     = C D F O"
   ]
  },
  {
   "cell_type": "raw",
   "metadata": {},
   "source": [
    "L[A] = A + merge(L[B], L[C], BC)\n",
    "     = A + merge(BDEO,  CDFO, BC)        # BB нет ни в каком другом хвосте\n",
    "     = A + B + merge(DEO, CDFO, C)        # D находится в хвосте CDFO — переход к следующему списку\n",
    "     = A + B + C + merge(DEO, DFO)        \n",
    "     = A + B + C + D + merge(EO, FO)\n",
    "     = A + B + C + D +  E + merge(O, FO)\n",
    "     = A + B + C + D +  E +  F + merge(O, O)\n",
    "     = A + B + C + D + E + F + O\n",
    "     = A B C D E F O"
   ]
  },
  {
   "cell_type": "markdown",
   "metadata": {},
   "source": [
    "MRO для этого случая: A -> B -> C -> D -> E -> F -> O"
   ]
  },
  {
   "cell_type": "markdown",
   "metadata": {},
   "source": [
    "Вывод: исходя из своего небольшого опыта, влагодаря MRO в Django можно выстроить нужный тебе View. Правда там лабиринт еще тот :)"
   ]
  },
  {
   "cell_type": "markdown",
   "metadata": {},
   "source": [
    "## Тема 3. VSCode"
   ]
  },
  {
   "cell_type": "markdown",
   "metadata": {},
   "source": [
    "Visual Studio Code интегрированная среда разработки (IDE) — это многофункциональная программа, которая поддерживает многие аспекты разработки программного обеспечения."
   ]
  },
  {
   "cell_type": "markdown",
   "metadata": {},
   "source": [
    "https://code.visualstudio.com/"
   ]
  },
  {
   "cell_type": "markdown",
   "metadata": {},
   "source": [
    "Как я уже писал ранее VSCode мне очень нравиться, пользуюсь им уже несколько месецев. Хотя некоторых мелочей из PyCharm ему не хватает. А так довольно хорошая среда."
   ]
  },
  {
   "cell_type": "markdown",
   "metadata": {},
   "source": [
    "## Тема 4. LEGB"
   ]
  },
  {
   "cell_type": "markdown",
   "metadata": {},
   "source": [
    "### Глобальные, локальные и нелокальные переменные Python"
   ]
  },
  {
   "cell_type": "markdown",
   "metadata": {},
   "source": [
    "<< Глобальная переменная >> – это переменная доступная в любом месте программы."
   ]
  },
  {
   "cell_type": "markdown",
   "metadata": {},
   "source": [
    "Пример 1"
   ]
  },
  {
   "cell_type": "code",
   "execution_count": 24,
   "metadata": {},
   "outputs": [
    {
     "name": "stdout",
     "output_type": "stream",
     "text": [
      "x * 2 = 10\n",
      "x = 5\n"
     ]
    }
   ],
   "source": [
    "x = 5\n",
    "\n",
    "\n",
    "def myfunc():\n",
    "    print(\"x * 2 =\", x * 2)\n",
    "\n",
    "\n",
    "myfunc()\n",
    "print(\"x =\", x)\n"
   ]
  },
  {
   "cell_type": "markdown",
   "metadata": {},
   "source": [
    "Однако, использование глобальных переменных считается плохим стилем программирования. И допускается, разве что, задавать глобальные константы, используемые во всей программе. А имена констант записывать заглавными буквами, чтобы отличать их от обычных не глобальных (то есть, локальных) переменных."
   ]
  },
  {
   "cell_type": "markdown",
   "metadata": {},
   "source": [
    "<< Локальные переменные >> – это переменные, объявленные внутри любого блока программы."
   ]
  },
  {
   "cell_type": "markdown",
   "metadata": {},
   "source": [
    "Пример 2"
   ]
  },
  {
   "cell_type": "code",
   "execution_count": 26,
   "metadata": {},
   "outputs": [
    {
     "name": "stdout",
     "output_type": "stream",
     "text": [
      "1 2 3 4 5 6 "
     ]
    }
   ],
   "source": [
    "def myfunc(b):\n",
    "    for x in range(b):\n",
    "        n = x+1\n",
    "        print(n, end=\" \")\n",
    " \n",
    "\n",
    "myfunc(6)\n"
   ]
  },
  {
   "cell_type": "markdown",
   "metadata": {},
   "source": [
    "Здесь сразу три локальных переменных: b, n, x. Они доступны только внутри функции myfunc() и не существуют за ее пределами. Если попытаемся после функции выполнить операцию, то возникнет ошибка, что x не существует. А вот внутри функции все три переменные существуют."
   ]
  },
  {
   "cell_type": "markdown",
   "metadata": {},
   "source": [
    "С глобальной переменной внутри функции можно работать, если написать вот такую конструкцию:"
   ]
  },
  {
   "cell_type": "markdown",
   "metadata": {},
   "source": [
    "Пример 3"
   ]
  },
  {
   "cell_type": "code",
   "execution_count": 33,
   "metadata": {},
   "outputs": [
    {
     "name": "stdout",
     "output_type": "stream",
     "text": [
      "Hello Tom\n",
      "Good bye Bob\n"
     ]
    }
   ],
   "source": [
    "name = \"Tom\"\n",
    "\n",
    "\n",
    "def say_hi():\n",
    "    print(\"Hello\", name)  # Глобальная переменная\n",
    "\n",
    "\n",
    "def say_bye():\n",
    "    name = \"Bob\"         #  Локальные переменные\n",
    "    print(\"Good bye\", name)  \n",
    "\n",
    "\n",
    "say_hi()\n",
    "say_bye()\n"
   ]
  },
  {
   "cell_type": "markdown",
   "metadata": {},
   "source": [
    "То есть, первая функция использовала глобальную переменную name, т.к. никакой другой для нее не существовало, а вторая функция использовала локальную name, объявленную внутри нее. Этот пример показывает, что функция сначала пытается найти нужную переменную внутри собственной области видимости, и если не находит, то переходит на более высокий уровень, в данном случае – глобальной области."
   ]
  },
  {
   "cell_type": "markdown",
   "metadata": {},
   "source": [
    "Если же хотим поменять именно глобальную переменную, то в функции следует вначале это явно сказать: global, тем самым указываем, что хотим работать с глобальной переменной, а не создавать локальную переменную. При выполнении программы, увидим измененное значение глобальной переменной.\n",
    "\n",
    "Однако, здесь следует быть аккуратным, так как если в функции уже была создана локальная a, то конструкция global приведет к ошибке:"
   ]
  },
  {
   "cell_type": "code",
   "execution_count": 34,
   "metadata": {},
   "outputs": [
    {
     "ename": "SyntaxError",
     "evalue": "name 'a' is assigned to before global declaration (<ipython-input-34-56d682aaeec9>, line 5)",
     "output_type": "error",
     "traceback": [
      "\u001b[0;36m  File \u001b[0;32m\"<ipython-input-34-56d682aaeec9>\"\u001b[0;36m, line \u001b[0;32m5\u001b[0m\n\u001b[0;31mSyntaxError\u001b[0m\u001b[0;31m:\u001b[0m name 'a' is assigned to before global declaration\n"
     ]
    }
   ],
   "source": [
    "a = 5\n",
    "global a\n"
   ]
  },
  {
   "cell_type": "markdown",
   "metadata": {},
   "source": [
    "Так можно делать только в отсутствии соответствующих локальных переменных или же, если глобальная переменная a не существует и внутри функции выполняются эти операции, то будет создана глобальная переменная с соответствующим значением."
   ]
  },
  {
   "cell_type": "markdown",
   "metadata": {},
   "source": [
    "<< Нелокальные переменные >> -используются во вложенных функциях, что означает переменная не может находиться ни в локальной, ни в глобальной области видимости."
   ]
  },
  {
   "cell_type": "markdown",
   "metadata": {},
   "source": [
    "Пример использования ключевого слова nonlocal."
   ]
  },
  {
   "cell_type": "markdown",
   "metadata": {},
   "source": [
    "Пример 4"
   ]
  },
  {
   "cell_type": "code",
   "execution_count": 37,
   "metadata": {},
   "outputs": [
    {
     "name": "stdout",
     "output_type": "stream",
     "text": [
      "inner: 2\n",
      "outer: 2\n",
      "global: 0\n"
     ]
    }
   ],
   "source": [
    "x = 0\n",
    "\n",
    "\n",
    "def outer():\n",
    "    x = 1\n",
    "\n",
    "    def inner():\n",
    "        nonlocal x\n",
    "        x = 2\n",
    "        print(\"inner:\", x)\n",
    "\n",
    "    inner()\n",
    "    print(\"outer:\", x)\n",
    "\n",
    "\n",
    "outer()\n",
    "print(\"global:\", x)\n"
   ]
  },
  {
   "cell_type": "markdown",
   "metadata": {},
   "source": [
    "Теперь строка x=2 будет означать изменение переменной x в функции outer."
   ]
  },
  {
   "cell_type": "markdown",
   "metadata": {},
   "source": [
    "Еще несколько примеров"
   ]
  },
  {
   "cell_type": "markdown",
   "metadata": {},
   "source": [
    "Пример 5"
   ]
  },
  {
   "cell_type": "markdown",
   "metadata": {},
   "source": [
    "Глобальная переменная и локальная переменная с одинаковым именем"
   ]
  },
  {
   "cell_type": "code",
   "execution_count": 38,
   "metadata": {},
   "outputs": [
    {
     "name": "stdout",
     "output_type": "stream",
     "text": [
      "local x: 10\n",
      "global x: 5\n"
     ]
    }
   ],
   "source": [
    "x = 5\n",
    "\n",
    "def foo():\n",
    "    x = 10\n",
    "    print(\"local x:\", x)\n",
    "\n",
    "\n",
    "foo()\n",
    "print(\"global x:\", x)"
   ]
  },
  {
   "cell_type": "markdown",
   "metadata": {},
   "source": [
    "Пример 6"
   ]
  },
  {
   "cell_type": "markdown",
   "metadata": {},
   "source": [
    "Использование глобальных и локальных переменных в одном коде"
   ]
  },
  {
   "cell_type": "code",
   "execution_count": 39,
   "metadata": {},
   "outputs": [
    {
     "name": "stdout",
     "output_type": "stream",
     "text": [
      "global global \n",
      "local\n"
     ]
    }
   ],
   "source": [
    "x = \"global \"\n",
    "\n",
    "def foo():\n",
    "    global x\n",
    "    y = \"local\"\n",
    "    x = x * 2\n",
    "    print(x)\n",
    "    print(y)\n",
    "\n",
    "foo()"
   ]
  },
  {
   "cell_type": "markdown",
   "metadata": {},
   "source": [
    "Вывод: итак, на этой теме рассмотрел глобальную и локальную области видимости переменных и познакомился с ключевыми словами global и nonlocal."
   ]
  },
  {
   "cell_type": "code",
   "execution_count": null,
   "metadata": {},
   "outputs": [],
   "source": []
  }
 ],
 "metadata": {
  "kernelspec": {
   "display_name": "Python 3.10.8 ('venv': venv)",
   "language": "python",
   "name": "python3"
  },
  "language_info": {
   "codemirror_mode": {
    "name": "ipython",
    "version": 3
   },
   "file_extension": ".py",
   "mimetype": "text/x-python",
   "name": "python",
   "nbconvert_exporter": "python",
   "pygments_lexer": "ipython3",
   "version": "3.10.8"
  },
  "vscode": {
   "interpreter": {
    "hash": "080d43f05f65bd1e1f006be13488ee8626cbe9fb3f9d16898ab8aefcb52db53a"
   }
  }
 },
 "nbformat": 4,
 "nbformat_minor": 2
}
